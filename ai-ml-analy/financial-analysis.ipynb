{
 "cells": [
  {
   "cell_type": "code",
   "execution_count": 15,
   "metadata": {},
   "outputs": [],
   "source": [
    "import pandas as pd"
   ]
  },
  {
   "cell_type": "code",
   "execution_count": 16,
   "metadata": {},
   "outputs": [],
   "source": [
    "from sklearn.model_selection import train_test_split"
   ]
  },
  {
   "cell_type": "code",
   "execution_count": 17,
   "metadata": {},
   "outputs": [],
   "source": [
    "import os\n",
    "\n",
    "# Set Kaggle API credentials\n",
    "os.environ['KAGGLE_USERNAME'] = \"aadibery2\"\n",
    "os.environ['KAGGLE_KEY'] = \"b8024084f49314e4474eecb7851f917c\""
   ]
  },
  {
   "cell_type": "code",
   "execution_count": 9,
   "metadata": {},
   "outputs": [
    {
     "name": "stdout",
     "output_type": "stream",
     "text": [
      "c:\\Users\\aadib\\OneDrive\\Documents\\GitHub\\hackathonTEAM\\ai-ml-analy\n"
     ]
    }
   ],
   "source": [
    "print(os.getcwd())  # Prints the current working directory\n"
   ]
  },
  {
   "cell_type": "code",
   "execution_count": 10,
   "metadata": {},
   "outputs": [
    {
     "name": "stdout",
     "output_type": "stream",
     "text": [
      "Dataset extracted to ./data\n"
     ]
    }
   ],
   "source": [
    "import zipfile\n",
    "\n",
    "zip_file_path = \"daily-transactions-dataset.zip\"  # Path to the downloaded zip file\n",
    "extract_to_path = \"./data\"  # Directory to extract the contents\n",
    "\n",
    "with zipfile.ZipFile(zip_file_path, 'r') as zip_ref:\n",
    "    zip_ref.extractall(extract_to_path)\n",
    "\n",
    "print(f\"Dataset extracted to {extract_to_path}\")"
   ]
  },
  {
   "cell_type": "code",
   "execution_count": 12,
   "metadata": {},
   "outputs": [
    {
     "name": "stdout",
     "output_type": "stream",
     "text": [
      "['Daily Household Transactions.csv']\n"
     ]
    }
   ],
   "source": [
    "# print the stuff in .data\n",
    "extracted_folder = './data'  # Update with your directory path if different\n",
    "print(os.listdir(extracted_folder))"
   ]
  },
  {
   "cell_type": "code",
   "execution_count": 18,
   "metadata": {},
   "outputs": [],
   "source": [
    "file_path = \"./data/Daily Household Transactions.csv\"\n",
    "data = pd.read_csv(file_path)"
   ]
  },
  {
   "cell_type": "code",
   "execution_count": 20,
   "metadata": {},
   "outputs": [
    {
     "name": "stdout",
     "output_type": "stream",
     "text": [
      "                  Date                   Mode  ... Income/Expense Currency\n",
      "0  20/09/2018 12:04:08                   Cash  ...        Expense      INR\n",
      "1  20/09/2018 12:03:15                   Cash  ...        Expense      INR\n",
      "2           19/09/2018  Saving Bank account 1  ...        Expense      INR\n",
      "3  17/09/2018 23:41:17  Saving Bank account 1  ...        Expense      INR\n",
      "4  16/09/2018 17:15:08                   Cash  ...        Expense      INR\n",
      "\n",
      "[5 rows x 8 columns]\n"
     ]
    },
    {
     "data": {
      "text/html": [
       "<div>\n",
       "<style scoped>\n",
       "    .dataframe tbody tr th:only-of-type {\n",
       "        vertical-align: middle;\n",
       "    }\n",
       "\n",
       "    .dataframe tbody tr th {\n",
       "        vertical-align: top;\n",
       "    }\n",
       "\n",
       "    .dataframe thead th {\n",
       "        text-align: right;\n",
       "    }\n",
       "</style>\n",
       "<table border=\"1\" class=\"dataframe\">\n",
       "  <thead>\n",
       "    <tr style=\"text-align: right;\">\n",
       "      <th></th>\n",
       "      <th>Date</th>\n",
       "      <th>Mode</th>\n",
       "      <th>Category</th>\n",
       "      <th>Subcategory</th>\n",
       "      <th>Note</th>\n",
       "      <th>Amount</th>\n",
       "      <th>Income/Expense</th>\n",
       "      <th>Currency</th>\n",
       "    </tr>\n",
       "  </thead>\n",
       "  <tbody>\n",
       "    <tr>\n",
       "      <th>0</th>\n",
       "      <td>20/09/2018 12:04:08</td>\n",
       "      <td>Cash</td>\n",
       "      <td>Transportation</td>\n",
       "      <td>Train</td>\n",
       "      <td>2 Place 5 to Place 0</td>\n",
       "      <td>30.0</td>\n",
       "      <td>Expense</td>\n",
       "      <td>INR</td>\n",
       "    </tr>\n",
       "    <tr>\n",
       "      <th>1</th>\n",
       "      <td>20/09/2018 12:03:15</td>\n",
       "      <td>Cash</td>\n",
       "      <td>Food</td>\n",
       "      <td>snacks</td>\n",
       "      <td>Idli medu Vada mix 2 plates</td>\n",
       "      <td>60.0</td>\n",
       "      <td>Expense</td>\n",
       "      <td>INR</td>\n",
       "    </tr>\n",
       "    <tr>\n",
       "      <th>2</th>\n",
       "      <td>19/09/2018</td>\n",
       "      <td>Saving Bank account 1</td>\n",
       "      <td>subscription</td>\n",
       "      <td>Netflix</td>\n",
       "      <td>1 month subscription</td>\n",
       "      <td>199.0</td>\n",
       "      <td>Expense</td>\n",
       "      <td>INR</td>\n",
       "    </tr>\n",
       "    <tr>\n",
       "      <th>3</th>\n",
       "      <td>17/09/2018 23:41:17</td>\n",
       "      <td>Saving Bank account 1</td>\n",
       "      <td>subscription</td>\n",
       "      <td>Mobile Service Provider</td>\n",
       "      <td>Data booster pack</td>\n",
       "      <td>19.0</td>\n",
       "      <td>Expense</td>\n",
       "      <td>INR</td>\n",
       "    </tr>\n",
       "    <tr>\n",
       "      <th>4</th>\n",
       "      <td>16/09/2018 17:15:08</td>\n",
       "      <td>Cash</td>\n",
       "      <td>Festivals</td>\n",
       "      <td>Ganesh Pujan</td>\n",
       "      <td>Ganesh idol</td>\n",
       "      <td>251.0</td>\n",
       "      <td>Expense</td>\n",
       "      <td>INR</td>\n",
       "    </tr>\n",
       "    <tr>\n",
       "      <th>...</th>\n",
       "      <td>...</td>\n",
       "      <td>...</td>\n",
       "      <td>...</td>\n",
       "      <td>...</td>\n",
       "      <td>...</td>\n",
       "      <td>...</td>\n",
       "      <td>...</td>\n",
       "      <td>...</td>\n",
       "    </tr>\n",
       "    <tr>\n",
       "      <th>2456</th>\n",
       "      <td>1/1/2015</td>\n",
       "      <td>Cash</td>\n",
       "      <td>Transportation</td>\n",
       "      <td>NaN</td>\n",
       "      <td>share jeep - Place T base to top</td>\n",
       "      <td>20.0</td>\n",
       "      <td>Expense</td>\n",
       "      <td>INR</td>\n",
       "    </tr>\n",
       "    <tr>\n",
       "      <th>2457</th>\n",
       "      <td>1/1/2015</td>\n",
       "      <td>Cash</td>\n",
       "      <td>Transportation</td>\n",
       "      <td>NaN</td>\n",
       "      <td>share auto - Place H to Place T base</td>\n",
       "      <td>20.0</td>\n",
       "      <td>Expense</td>\n",
       "      <td>INR</td>\n",
       "    </tr>\n",
       "    <tr>\n",
       "      <th>2458</th>\n",
       "      <td>1/1/2015</td>\n",
       "      <td>Cash</td>\n",
       "      <td>Transportation</td>\n",
       "      <td>NaN</td>\n",
       "      <td>bus - brc to Place H</td>\n",
       "      <td>30.0</td>\n",
       "      <td>Expense</td>\n",
       "      <td>INR</td>\n",
       "    </tr>\n",
       "    <tr>\n",
       "      <th>2459</th>\n",
       "      <td>1/1/2015</td>\n",
       "      <td>Cash</td>\n",
       "      <td>Food</td>\n",
       "      <td>NaN</td>\n",
       "      <td>tea</td>\n",
       "      <td>10.0</td>\n",
       "      <td>Expense</td>\n",
       "      <td>INR</td>\n",
       "    </tr>\n",
       "    <tr>\n",
       "      <th>2460</th>\n",
       "      <td>1/1/2015</td>\n",
       "      <td>Cash</td>\n",
       "      <td>Transportation</td>\n",
       "      <td>NaN</td>\n",
       "      <td>share auto - hospital to brc station</td>\n",
       "      <td>10.0</td>\n",
       "      <td>Expense</td>\n",
       "      <td>INR</td>\n",
       "    </tr>\n",
       "  </tbody>\n",
       "</table>\n",
       "<p>2461 rows × 8 columns</p>\n",
       "</div>"
      ],
      "text/plain": [
       "                     Date                   Mode        Category  \\\n",
       "0     20/09/2018 12:04:08                   Cash  Transportation   \n",
       "1     20/09/2018 12:03:15                   Cash            Food   \n",
       "2              19/09/2018  Saving Bank account 1    subscription   \n",
       "3     17/09/2018 23:41:17  Saving Bank account 1    subscription   \n",
       "4     16/09/2018 17:15:08                   Cash       Festivals   \n",
       "...                   ...                    ...             ...   \n",
       "2456             1/1/2015                   Cash  Transportation   \n",
       "2457             1/1/2015                   Cash  Transportation   \n",
       "2458             1/1/2015                   Cash  Transportation   \n",
       "2459             1/1/2015                   Cash            Food   \n",
       "2460             1/1/2015                   Cash  Transportation   \n",
       "\n",
       "                  Subcategory                                  Note  Amount  \\\n",
       "0                       Train                  2 Place 5 to Place 0    30.0   \n",
       "1                      snacks           Idli medu Vada mix 2 plates    60.0   \n",
       "2                     Netflix                  1 month subscription   199.0   \n",
       "3     Mobile Service Provider                     Data booster pack    19.0   \n",
       "4                Ganesh Pujan                           Ganesh idol   251.0   \n",
       "...                       ...                                   ...     ...   \n",
       "2456                      NaN      share jeep - Place T base to top    20.0   \n",
       "2457                      NaN  share auto - Place H to Place T base    20.0   \n",
       "2458                      NaN                  bus - brc to Place H    30.0   \n",
       "2459                      NaN                                   tea    10.0   \n",
       "2460                      NaN  share auto - hospital to brc station    10.0   \n",
       "\n",
       "     Income/Expense Currency  \n",
       "0           Expense      INR  \n",
       "1           Expense      INR  \n",
       "2           Expense      INR  \n",
       "3           Expense      INR  \n",
       "4           Expense      INR  \n",
       "...             ...      ...  \n",
       "2456        Expense      INR  \n",
       "2457        Expense      INR  \n",
       "2458        Expense      INR  \n",
       "2459        Expense      INR  \n",
       "2460        Expense      INR  \n",
       "\n",
       "[2461 rows x 8 columns]"
      ]
     },
     "metadata": {},
     "output_type": "display_data"
    }
   ],
   "source": [
    "print(data.head())\n",
    "\n",
    "with pd.option_context('display.max_rows', 10, 'display.max_columns', None):\n",
    "    display(data)"
   ]
  },
  {
   "cell_type": "code",
   "execution_count": 21,
   "metadata": {},
   "outputs": [],
   "source": [
    "currency_rate = 0.012\n",
    "\n",
    "data['amount-usd'] = data['Amount'] * currency_rate"
   ]
  },
  {
   "cell_type": "code",
   "execution_count": 22,
   "metadata": {},
   "outputs": [
    {
     "data": {
      "text/html": [
       "<div>\n",
       "<style scoped>\n",
       "    .dataframe tbody tr th:only-of-type {\n",
       "        vertical-align: middle;\n",
       "    }\n",
       "\n",
       "    .dataframe tbody tr th {\n",
       "        vertical-align: top;\n",
       "    }\n",
       "\n",
       "    .dataframe thead th {\n",
       "        text-align: right;\n",
       "    }\n",
       "</style>\n",
       "<table border=\"1\" class=\"dataframe\">\n",
       "  <thead>\n",
       "    <tr style=\"text-align: right;\">\n",
       "      <th></th>\n",
       "      <th>Date</th>\n",
       "      <th>Mode</th>\n",
       "      <th>Category</th>\n",
       "      <th>Subcategory</th>\n",
       "      <th>Note</th>\n",
       "      <th>Amount</th>\n",
       "      <th>Income/Expense</th>\n",
       "      <th>Currency</th>\n",
       "      <th>amount-usd</th>\n",
       "    </tr>\n",
       "  </thead>\n",
       "  <tbody>\n",
       "    <tr>\n",
       "      <th>0</th>\n",
       "      <td>20/09/2018 12:04:08</td>\n",
       "      <td>Cash</td>\n",
       "      <td>Transportation</td>\n",
       "      <td>Train</td>\n",
       "      <td>2 Place 5 to Place 0</td>\n",
       "      <td>30.0</td>\n",
       "      <td>Expense</td>\n",
       "      <td>INR</td>\n",
       "      <td>0.360</td>\n",
       "    </tr>\n",
       "    <tr>\n",
       "      <th>1</th>\n",
       "      <td>20/09/2018 12:03:15</td>\n",
       "      <td>Cash</td>\n",
       "      <td>Food</td>\n",
       "      <td>snacks</td>\n",
       "      <td>Idli medu Vada mix 2 plates</td>\n",
       "      <td>60.0</td>\n",
       "      <td>Expense</td>\n",
       "      <td>INR</td>\n",
       "      <td>0.720</td>\n",
       "    </tr>\n",
       "    <tr>\n",
       "      <th>2</th>\n",
       "      <td>19/09/2018</td>\n",
       "      <td>Saving Bank account 1</td>\n",
       "      <td>subscription</td>\n",
       "      <td>Netflix</td>\n",
       "      <td>1 month subscription</td>\n",
       "      <td>199.0</td>\n",
       "      <td>Expense</td>\n",
       "      <td>INR</td>\n",
       "      <td>2.388</td>\n",
       "    </tr>\n",
       "    <tr>\n",
       "      <th>3</th>\n",
       "      <td>17/09/2018 23:41:17</td>\n",
       "      <td>Saving Bank account 1</td>\n",
       "      <td>subscription</td>\n",
       "      <td>Mobile Service Provider</td>\n",
       "      <td>Data booster pack</td>\n",
       "      <td>19.0</td>\n",
       "      <td>Expense</td>\n",
       "      <td>INR</td>\n",
       "      <td>0.228</td>\n",
       "    </tr>\n",
       "    <tr>\n",
       "      <th>4</th>\n",
       "      <td>16/09/2018 17:15:08</td>\n",
       "      <td>Cash</td>\n",
       "      <td>Festivals</td>\n",
       "      <td>Ganesh Pujan</td>\n",
       "      <td>Ganesh idol</td>\n",
       "      <td>251.0</td>\n",
       "      <td>Expense</td>\n",
       "      <td>INR</td>\n",
       "      <td>3.012</td>\n",
       "    </tr>\n",
       "  </tbody>\n",
       "</table>\n",
       "</div>"
      ],
      "text/plain": [
       "                  Date                   Mode  ... Currency amount-usd\n",
       "0  20/09/2018 12:04:08                   Cash  ...      INR      0.360\n",
       "1  20/09/2018 12:03:15                   Cash  ...      INR      0.720\n",
       "2           19/09/2018  Saving Bank account 1  ...      INR      2.388\n",
       "3  17/09/2018 23:41:17  Saving Bank account 1  ...      INR      0.228\n",
       "4  16/09/2018 17:15:08                   Cash  ...      INR      3.012\n",
       "\n",
       "[5 rows x 9 columns]"
      ]
     },
     "execution_count": 22,
     "metadata": {},
     "output_type": "execute_result"
    }
   ],
   "source": [
    "data.head()"
   ]
  },
  {
   "cell_type": "code",
   "execution_count": 42,
   "metadata": {},
   "outputs": [
    {
     "name": "stdout",
     "output_type": "stream",
     "text": [
      "         Category                         Note\n",
      "0  Transportation         2 Place 5 to Place 0\n",
      "1            Food  Idli medu Vada mix 2 plates\n",
      "2    subscription         1 month subscription\n",
      "3    subscription            Data booster pack\n",
      "4       Festivals                  Ganesh idol\n"
     ]
    }
   ],
   "source": [
    "# we now want to create an additional csv file that just has the category and note/description with it\n",
    "cleaned_data = data[['Category', 'Note']]\n",
    "print(cleaned_data.head())"
   ]
  },
  {
   "cell_type": "code",
   "execution_count": 43,
   "metadata": {},
   "outputs": [
    {
     "name": "stdout",
     "output_type": "stream",
     "text": [
      "Cleaned data saved to 'cleaned_dataset.csv'\n"
     ]
    }
   ],
   "source": [
    "# Save the cleaned data to a new CSV file\n",
    "cleaned_data.to_csv('cleaned_dataset.csv', index=False)\n",
    "\n",
    "# Print confirmation\n",
    "print(\"Cleaned data saved to 'cleaned_dataset.csv'\")\n"
   ]
  },
  {
   "cell_type": "code",
   "execution_count": 45,
   "metadata": {},
   "outputs": [
    {
     "ename": "ModuleNotFoundError",
     "evalue": "No module named 'sagemaker'",
     "output_type": "error",
     "traceback": [
      "\u001b[1;31m---------------------------------------------------------------------------\u001b[0m",
      "\u001b[1;31mModuleNotFoundError\u001b[0m                       Traceback (most recent call last)",
      "Cell \u001b[1;32mIn[45], line 2\u001b[0m\n\u001b[0;32m      1\u001b[0m \u001b[38;5;66;03m# training the model with our trained data\u001b[39;00m\n\u001b[1;32m----> 2\u001b[0m \u001b[38;5;28;01mimport\u001b[39;00m\u001b[38;5;250m \u001b[39m\u001b[38;5;21;01msagemaker\u001b[39;00m\n\u001b[0;32m      3\u001b[0m \u001b[38;5;28;01mfrom\u001b[39;00m\u001b[38;5;250m \u001b[39m\u001b[38;5;21;01msagemaker\u001b[39;00m\u001b[38;5;250m \u001b[39m\u001b[38;5;28;01mimport\u001b[39;00m get_execution_role\n\u001b[0;32m      4\u001b[0m \u001b[38;5;28;01mfrom\u001b[39;00m\u001b[38;5;250m \u001b[39m\u001b[38;5;21;01msagemaker\u001b[39;00m\u001b[38;5;21;01m.\u001b[39;00m\u001b[38;5;21;01mhuggingface\u001b[39;00m\u001b[38;5;250m \u001b[39m\u001b[38;5;28;01mimport\u001b[39;00m HuggingFaceModel\n",
      "\u001b[1;31mModuleNotFoundError\u001b[0m: No module named 'sagemaker'"
     ]
    }
   ],
   "source": [
    "# training the model with our trained data\n",
    "import sagemaker\n",
    "from sagemaker import get_execution_role\n",
    "from sagemaker.huggingface import HuggingFaceModel\n",
    "\n",
    "# Load the dataset from S3\n",
    "bucket = 'userdatas3'\n",
    "input_data = 's3://{}/cleaned_dataset.csv'.format(bucket)\n",
    "\n",
    "data = pd.read_csv(input_data)\n",
    "\n",
    "# Preprocess data: Prepare labels and descriptions for model training\n",
    "labels = data['Category']\n",
    "descriptions = data['Note']\n",
    "\n",
    "# Tokenize the descriptions (using Hugging Face tokenizer, for example)\n",
    "from transformers import AutoTokenizer\n",
    "\n",
    "tokenizer = AutoTokenizer.from_pretrained('bert-base-uncased')\n",
    "encodings = tokenizer(descriptions.tolist(), truncation=True, padding=True, max_length=128)\n",
    "\n",
    "# Define input features and labels\n",
    "X_train = encodings['input_ids']\n",
    "y_train = labels.tolist()\n",
    "\n",
    "# Save preprocessed data to S3 for training\n",
    "train_data = pd.DataFrame({'text': descriptions, 'label': labels})\n",
    "train_data.to_csv('train_data.csv', index=False)\n",
    "\n",
    "# Upload preprocessed training data to S3\n",
    "train_data_s3 = 's3://{}//train_data.csv'.format(bucket)\n",
    "train_data.to_csv(train_data_s3, index=False)\n",
    "\n",
    "# Now that we have our data ready, we can proceed to set up a training job\n"
   ]
  },
  {
   "cell_type": "code",
   "execution_count": null,
   "metadata": {},
   "outputs": [],
   "source": []
  }
 ],
 "metadata": {
  "kernelspec": {
   "display_name": "Python 3",
   "language": "python",
   "name": "python3"
  },
  "language_info": {
   "codemirror_mode": {
    "name": "ipython",
    "version": 3
   },
   "file_extension": ".py",
   "mimetype": "text/x-python",
   "name": "python",
   "nbconvert_exporter": "python",
   "pygments_lexer": "ipython3",
   "version": "3.13.1"
  }
 },
 "nbformat": 4,
 "nbformat_minor": 2
}
